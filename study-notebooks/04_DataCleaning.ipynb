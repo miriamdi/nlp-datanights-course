{
  "cells": [
    {
      "metadata": {
        "id": "3a1c85a18fb60452"
      },
      "cell_type": "markdown",
      "source": [
        "# Data Cleaning\n",
        "\n",
        "this notebook is about cleaning the data, which includes:\n",
        "* **remove punctuation**: remove all punctuation from a string\n",
        "* **stop words**: words which are filtered out before or after processing of text\n",
        "* **stemming**: process of reducing inflected (or sometimes derived) words to their word stem, base or root form\n",
        "* **lemmatization**: process of grouping together the inflected forms of a word so they can be analysed as a single item\n",
        "* **tokenization**: process of breaking a stream of text up into words, phrases, symbols, or other meaningful elements called tokens\n",
        "\n"
      ],
      "id": "3a1c85a18fb60452"
    },
    {
      "metadata": {
        "ExecuteTime": {
          "end_time": "2024-06-09T11:38:25.680179Z",
          "start_time": "2024-06-09T11:38:25.678226Z"
        },
        "id": "afd9bf91bb4d91ca"
      },
      "cell_type": "code",
      "source": [
        "import pandas as pd"
      ],
      "id": "afd9bf91bb4d91ca",
      "outputs": [],
      "execution_count": null
    },
    {
      "metadata": {
        "ExecuteTime": {
          "end_time": "2024-06-09T11:38:25.906677Z",
          "start_time": "2024-06-09T11:38:25.865009Z"
        },
        "id": "cbc65862f83abde3"
      },
      "cell_type": "code",
      "source": [
        "tweets = pd.read_csv('twitter.csv')"
      ],
      "id": "cbc65862f83abde3",
      "outputs": [],
      "execution_count": null
    },
    {
      "metadata": {
        "ExecuteTime": {
          "end_time": "2024-06-09T11:38:26.071015Z",
          "start_time": "2024-06-09T11:38:26.069212Z"
        },
        "id": "3fea1c8618d7fae"
      },
      "cell_type": "code",
      "source": [
        "t0 = tweets.tweet[0]"
      ],
      "id": "3fea1c8618d7fae",
      "outputs": [],
      "execution_count": null
    },
    {
      "metadata": {
        "ExecuteTime": {
          "end_time": "2024-06-09T11:38:26.277222Z",
          "start_time": "2024-06-09T11:38:26.274959Z"
        },
        "id": "c1f2054cfea8eae8",
        "outputId": "74edd455-fdce-4023-caca-646fc5b8111c",
        "colab": {
          "base_uri": "https://localhost:8080/",
          "height": 35
        }
      },
      "cell_type": "code",
      "source": [
        "t0"
      ],
      "id": "c1f2054cfea8eae8",
      "outputs": [
        {
          "output_type": "execute_result",
          "data": {
            "text/plain": [
              "' @user when a father is dysfunctional and is so selfish he drags his kids into his dysfunction.   #run'"
            ],
            "application/vnd.google.colaboratory.intrinsic+json": {
              "type": "string"
            }
          },
          "metadata": {},
          "execution_count": 4
        }
      ],
      "execution_count": null
    },
    {
      "metadata": {
        "id": "c138043c92fcf440"
      },
      "cell_type": "markdown",
      "source": [
        "## Remove Punctuation"
      ],
      "id": "c138043c92fcf440"
    },
    {
      "metadata": {
        "ExecuteTime": {
          "end_time": "2024-06-09T11:38:26.879353Z",
          "start_time": "2024-06-09T11:38:26.877710Z"
        },
        "id": "2096b47e93f8afe1"
      },
      "cell_type": "code",
      "source": [
        "import string"
      ],
      "id": "2096b47e93f8afe1",
      "outputs": [],
      "execution_count": null
    },
    {
      "metadata": {
        "ExecuteTime": {
          "end_time": "2024-06-09T11:50:33.868792Z",
          "start_time": "2024-06-09T11:50:33.866464Z"
        },
        "id": "3aa1b1d1dfcde562",
        "outputId": "f79e8246-f48b-41ef-992d-2a59dbe43aab",
        "colab": {
          "base_uri": "https://localhost:8080/",
          "height": 35
        }
      },
      "cell_type": "code",
      "source": [
        "t0.translate(str.maketrans('', '', string.punctuation))"
      ],
      "id": "3aa1b1d1dfcde562",
      "outputs": [
        {
          "output_type": "execute_result",
          "data": {
            "text/plain": [
              "' user when a father is dysfunctional and is so selfish he drags his kids into his dysfunction   run'"
            ],
            "application/vnd.google.colaboratory.intrinsic+json": {
              "type": "string"
            }
          },
          "metadata": {},
          "execution_count": 6
        }
      ],
      "execution_count": null
    },
    {
      "metadata": {
        "ExecuteTime": {
          "end_time": "2024-06-09T11:50:52.105992Z",
          "start_time": "2024-06-09T11:50:52.103068Z"
        },
        "id": "732e862a025ce6ec",
        "outputId": "47f6c55b-2e38-486f-a922-315d092ac9b9",
        "colab": {
          "base_uri": "https://localhost:8080/",
          "height": 35
        }
      },
      "cell_type": "code",
      "source": [
        "# another way to remove punctuation\n",
        "''.join([char for char in t0 if char not in string.punctuation])"
      ],
      "id": "732e862a025ce6ec",
      "outputs": [
        {
          "output_type": "execute_result",
          "data": {
            "text/plain": [
              "' user when a father is dysfunctional and is so selfish he drags his kids into his dysfunction   run'"
            ],
            "application/vnd.google.colaboratory.intrinsic+json": {
              "type": "string"
            }
          },
          "metadata": {},
          "execution_count": 7
        }
      ],
      "execution_count": null
    },
    {
      "metadata": {
        "ExecuteTime": {
          "end_time": "2024-06-09T11:54:48.596040Z",
          "start_time": "2024-06-09T11:54:48.593694Z"
        },
        "id": "21440521e141bcb3",
        "outputId": "cf4f9e1d-4531-4a47-f6b3-9aa48a962d9c",
        "colab": {
          "base_uri": "https://localhost:8080/",
          "height": 35
        }
      },
      "cell_type": "code",
      "source": [
        "# another way to remove punctuation\n",
        "\"\".join(filter(lambda x: x not in string.punctuation, t0))"
      ],
      "id": "21440521e141bcb3",
      "outputs": [
        {
          "output_type": "execute_result",
          "data": {
            "text/plain": [
              "' user when a father is dysfunctional and is so selfish he drags his kids into his dysfunction   run'"
            ],
            "application/vnd.google.colaboratory.intrinsic+json": {
              "type": "string"
            }
          },
          "metadata": {},
          "execution_count": 8
        }
      ],
      "execution_count": null
    },
    {
      "metadata": {
        "ExecuteTime": {
          "end_time": "2024-06-09T11:56:43.147105Z",
          "start_time": "2024-06-09T11:56:43.145675Z"
        },
        "id": "cf1ebd0d6fbe1c64"
      },
      "cell_type": "code",
      "source": [],
      "id": "cf1ebd0d6fbe1c64",
      "outputs": [],
      "execution_count": null
    },
    {
      "metadata": {
        "id": "56df47598c226bba"
      },
      "cell_type": "markdown",
      "source": [
        "## Remove stop words"
      ],
      "id": "56df47598c226bba"
    },
    {
      "metadata": {
        "ExecuteTime": {
          "end_time": "2024-06-09T11:38:28.313700Z",
          "start_time": "2024-06-09T11:38:27.534691Z"
        },
        "id": "fc6b478a516878cf",
        "outputId": "5b1f8b2b-4d35-490f-e89b-a100cb215c06",
        "colab": {
          "base_uri": "https://localhost:8080/"
        }
      },
      "cell_type": "code",
      "source": [
        "import nltk\n",
        "nltk.download('stopwords')\n",
        "from nltk.corpus import stopwords\n",
        "#stopwords.words('english')"
      ],
      "id": "fc6b478a516878cf",
      "outputs": [
        {
          "output_type": "stream",
          "name": "stderr",
          "text": [
            "[nltk_data] Downloading package stopwords to /root/nltk_data...\n",
            "[nltk_data]   Unzipping corpora/stopwords.zip.\n"
          ]
        }
      ],
      "execution_count": null
    },
    {
      "metadata": {
        "ExecuteTime": {
          "end_time": "2024-06-09T11:38:28.316697Z",
          "start_time": "2024-06-09T11:38:28.314649Z"
        },
        "id": "adaf3e5d964bf23c",
        "outputId": "64467be1-905c-4ad4-b964-42adb16867b6",
        "colab": {
          "base_uri": "https://localhost:8080/",
          "height": 35
        }
      },
      "cell_type": "code",
      "source": [
        "t0"
      ],
      "id": "adaf3e5d964bf23c",
      "outputs": [
        {
          "output_type": "execute_result",
          "data": {
            "text/plain": [
              "' @user when a father is dysfunctional and is so selfish he drags his kids into his dysfunction.   #run'"
            ],
            "application/vnd.google.colaboratory.intrinsic+json": {
              "type": "string"
            }
          },
          "metadata": {},
          "execution_count": 10
        }
      ],
      "execution_count": null
    },
    {
      "metadata": {
        "ExecuteTime": {
          "end_time": "2024-06-09T11:38:28.322789Z",
          "start_time": "2024-06-09T11:38:28.317243Z"
        },
        "id": "5b8f49ae6240fbe7",
        "outputId": "da579afb-892f-416d-d6f2-f685b1959f44",
        "colab": {
          "base_uri": "https://localhost:8080/",
          "height": 35
        }
      },
      "cell_type": "code",
      "source": [
        "#remove stop words from the tweet\n",
        "\n",
        "' '.join([word for word in t0.split() if word.lower() not in stopwords.words('english')])"
      ],
      "id": "5b8f49ae6240fbe7",
      "outputs": [
        {
          "output_type": "execute_result",
          "data": {
            "text/plain": [
              "'@user father dysfunctional selfish drags kids dysfunction. #run'"
            ],
            "application/vnd.google.colaboratory.intrinsic+json": {
              "type": "string"
            }
          },
          "metadata": {},
          "execution_count": 11
        }
      ],
      "execution_count": null
    },
    {
      "metadata": {
        "id": "ceaf3d60697682d3"
      },
      "cell_type": "markdown",
      "source": [
        "### Excercise\n",
        "1. Write a function that removes all stopwords from a given `text` and punctuation\n",
        "2. Run the function on all tweets\n"
      ],
      "id": "ceaf3d60697682d3"
    },
    {
      "metadata": {
        "ExecuteTime": {
          "end_time": "2024-06-09T12:04:26.167424Z",
          "start_time": "2024-06-09T12:04:26.165460Z"
        },
        "id": "1958b753a78ef1da"
      },
      "cell_type": "code",
      "source": [
        "def remove_stopwords_punctuation(text):\n",
        "    return text"
      ],
      "id": "1958b753a78ef1da",
      "outputs": [],
      "execution_count": null
    },
    {
      "metadata": {
        "id": "4bfff293586a0189"
      },
      "cell_type": "markdown",
      "source": [
        "<details>\n",
        "    <summary>Click to reveal answer</summary>\n",
        "    <p class=\"answer\">\n",
        "    def remove_stopwords_punctuation(text):\n",
        "    # remove punctuation\n",
        "    text = text.translate(str.maketrans('', '', string.punctuation))\n",
        "    # remove stop words\n",
        "    return ' '.join([word for word in text.split() if word.lower() not in stopwords.words('english')])\n",
        "    # return text\n",
        "    </p>\n",
        "</details>\n"
      ],
      "id": "4bfff293586a0189"
    },
    {
      "metadata": {
        "id": "109d0751ce142dc4"
      },
      "cell_type": "markdown",
      "source": [
        "Remove stop words and punctuation from all tweets, save the result in a new column called 'cleaned'"
      ],
      "id": "109d0751ce142dc4"
    },
    {
      "metadata": {
        "ExecuteTime": {
          "end_time": "2024-06-09T12:03:29.699136Z",
          "start_time": "2024-06-09T12:03:12.562659Z"
        },
        "id": "d223429b0cde2159",
        "outputId": "5ea9b141-da8f-46c7-dc50-143c5495ca61"
      },
      "cell_type": "code",
      "source": [],
      "id": "d223429b0cde2159",
      "outputs": [
        {
          "data": {
            "text/plain": [
              "   id  label                                              tweet  \\\n",
              "0   1      0   @user when a father is dysfunctional and is s...   \n",
              "1   2      0  @user @user thanks for #lyft credit i can't us...   \n",
              "2   3      0                                bihday your majesty   \n",
              "3   4      0  #model   i love u take with u all the time in ...   \n",
              "4   5      0             factsguide: society now    #motivation   \n",
              "\n",
              "                                             cleaned  \n",
              "0  user father dysfunctional selfish drags kids d...  \n",
              "1  user user thanks lyft credit cant use cause do...  \n",
              "2                                     bihday majesty  \n",
              "3  model love u take u time urð± ðððð...  \n",
              "4                      factsguide society motivation  "
            ],
            "text/html": [
              "<div>\n",
              "<style scoped>\n",
              "    .dataframe tbody tr th:only-of-type {\n",
              "        vertical-align: middle;\n",
              "    }\n",
              "\n",
              "    .dataframe tbody tr th {\n",
              "        vertical-align: top;\n",
              "    }\n",
              "\n",
              "    .dataframe thead th {\n",
              "        text-align: right;\n",
              "    }\n",
              "</style>\n",
              "<table border=\"1\" class=\"dataframe\">\n",
              "  <thead>\n",
              "    <tr style=\"text-align: right;\">\n",
              "      <th></th>\n",
              "      <th>id</th>\n",
              "      <th>label</th>\n",
              "      <th>tweet</th>\n",
              "      <th>cleaned</th>\n",
              "    </tr>\n",
              "  </thead>\n",
              "  <tbody>\n",
              "    <tr>\n",
              "      <th>0</th>\n",
              "      <td>1</td>\n",
              "      <td>0</td>\n",
              "      <td>@user when a father is dysfunctional and is s...</td>\n",
              "      <td>user father dysfunctional selfish drags kids d...</td>\n",
              "    </tr>\n",
              "    <tr>\n",
              "      <th>1</th>\n",
              "      <td>2</td>\n",
              "      <td>0</td>\n",
              "      <td>@user @user thanks for #lyft credit i can't us...</td>\n",
              "      <td>user user thanks lyft credit cant use cause do...</td>\n",
              "    </tr>\n",
              "    <tr>\n",
              "      <th>2</th>\n",
              "      <td>3</td>\n",
              "      <td>0</td>\n",
              "      <td>bihday your majesty</td>\n",
              "      <td>bihday majesty</td>\n",
              "    </tr>\n",
              "    <tr>\n",
              "      <th>3</th>\n",
              "      <td>4</td>\n",
              "      <td>0</td>\n",
              "      <td>#model   i love u take with u all the time in ...</td>\n",
              "      <td>model love u take u time urð± ðððð...</td>\n",
              "    </tr>\n",
              "    <tr>\n",
              "      <th>4</th>\n",
              "      <td>5</td>\n",
              "      <td>0</td>\n",
              "      <td>factsguide: society now    #motivation</td>\n",
              "      <td>factsguide society motivation</td>\n",
              "    </tr>\n",
              "  </tbody>\n",
              "</table>\n",
              "</div>"
            ]
          },
          "execution_count": 59,
          "metadata": {},
          "output_type": "execute_result"
        }
      ],
      "execution_count": null
    },
    {
      "metadata": {
        "id": "9d76983e4b47f1a3"
      },
      "cell_type": "markdown",
      "source": [],
      "id": "9d76983e4b47f1a3"
    },
    {
      "metadata": {
        "id": "8c76ebfc2ba7d75a"
      },
      "cell_type": "markdown",
      "source": [
        "<details>\n",
        "    <summary>Click to reveal answer</summary>\n",
        "    <p class=\"answer\">\n",
        "    tweets['cleaned'] = tweets.tweet.apply(remove_stopwords_punctuation)\n",
        "    tweets.head()\n",
        "    </p>\n",
        "</details>\n"
      ],
      "id": "8c76ebfc2ba7d75a"
    },
    {
      "metadata": {
        "id": "68b60c85666cea94"
      },
      "cell_type": "markdown",
      "source": [
        "## Stemming"
      ],
      "id": "68b60c85666cea94"
    },
    {
      "metadata": {
        "ExecuteTime": {
          "end_time": "2024-06-09T11:38:29.307665Z",
          "start_time": "2024-06-09T11:38:29.305313Z"
        },
        "id": "a2db345088d0339",
        "outputId": "5a94b332-3634-4267-d0cc-46f2dfebca86",
        "colab": {
          "base_uri": "https://localhost:8080/"
        }
      },
      "cell_type": "code",
      "source": [
        "input1 = \"List listed lists listing listings\"\n",
        "words1 = input1.lower().split(' ')\n",
        "words1"
      ],
      "id": "a2db345088d0339",
      "outputs": [
        {
          "output_type": "execute_result",
          "data": {
            "text/plain": [
              "['list', 'listed', 'lists', 'listing', 'listings']"
            ]
          },
          "metadata": {},
          "execution_count": 12
        }
      ],
      "execution_count": null
    },
    {
      "metadata": {
        "ExecuteTime": {
          "end_time": "2024-06-09T11:38:29.488538Z",
          "start_time": "2024-06-09T11:38:29.486639Z"
        },
        "id": "4d2f3052309e543e"
      },
      "cell_type": "code",
      "source": [
        "porter = nltk.PorterStemmer()"
      ],
      "id": "4d2f3052309e543e",
      "outputs": [],
      "execution_count": null
    },
    {
      "metadata": {
        "ExecuteTime": {
          "end_time": "2024-06-09T11:38:29.676734Z",
          "start_time": "2024-06-09T11:38:29.673683Z"
        },
        "id": "589e3bef64f1bda8",
        "outputId": "d2133b75-3f77-47f9-97f3-cf50aef4d4d2"
      },
      "cell_type": "code",
      "source": [
        "[porter.stem(t) for t in words1]"
      ],
      "id": "589e3bef64f1bda8",
      "outputs": [
        {
          "data": {
            "text/plain": [
              "['list', 'list', 'list', 'list', 'list']"
            ]
          },
          "execution_count": 16,
          "metadata": {},
          "output_type": "execute_result"
        }
      ],
      "execution_count": null
    },
    {
      "metadata": {
        "id": "da01ee6e31e35301"
      },
      "cell_type": "markdown",
      "source": [
        "## Lemmatization"
      ],
      "id": "da01ee6e31e35301"
    },
    {
      "metadata": {
        "ExecuteTime": {
          "end_time": "2024-06-09T11:38:30.050329Z",
          "start_time": "2024-06-09T11:38:30.048861Z"
        },
        "id": "aee4f983c6d17e30"
      },
      "cell_type": "code",
      "source": [
        "WNlemma = nltk.WordNetLemmatizer()"
      ],
      "id": "aee4f983c6d17e30",
      "outputs": [],
      "execution_count": null
    },
    {
      "metadata": {
        "ExecuteTime": {
          "end_time": "2024-06-09T11:38:30.741222Z",
          "start_time": "2024-06-09T11:38:30.228708Z"
        },
        "id": "7e3095a05273f145",
        "outputId": "2f3eb4f1-988d-498f-977b-7cea6d2b70a9"
      },
      "cell_type": "code",
      "source": [
        "[WNlemma.lemmatize(t) for t in words1]"
      ],
      "id": "7e3095a05273f145",
      "outputs": [
        {
          "data": {
            "text/plain": [
              "['list', 'listed', 'list', 'listing', 'listing']"
            ]
          },
          "execution_count": 18,
          "metadata": {},
          "output_type": "execute_result"
        }
      ],
      "execution_count": null
    },
    {
      "metadata": {
        "ExecuteTime": {
          "end_time": "2024-06-09T11:38:30.743608Z",
          "start_time": "2024-06-09T11:38:30.742340Z"
        },
        "id": "4f83fa7120e3b03a"
      },
      "cell_type": "code",
      "source": [],
      "id": "4f83fa7120e3b03a",
      "outputs": [],
      "execution_count": null
    },
    {
      "metadata": {
        "id": "86258a043e77050e"
      },
      "cell_type": "markdown",
      "source": [
        "## Stemming vs Lemmatization\n",
        "\n",
        "* **Stemming**:\n",
        "\n",
        " stemming is typically faster as it simply chops off the end of a word using heuristics, without any understanding of the context in which a word is used.\n",
        "\n",
        "    * Faster\n",
        "    * Less accurate\n",
        "    * More aggressive\n",
        "    * Removes prefixes and suffixes\n",
        "    * Not always a real word\n",
        "\n",
        "* **Lemmatization**:\n",
        "\n",
        "Lemmmatization is typically more accurate as it uses more informed analysis to create groups of words with similar meaning based on the context around the word.\n",
        "\n",
        "    * Slower\n",
        "    * More accurate\n",
        "    * Less aggressive\n",
        "    * Removes prefixes and suffixes\n",
        "    * Always a real word\n",
        "    * Requires a dictionary\n"
      ],
      "id": "86258a043e77050e"
    },
    {
      "metadata": {
        "id": "be5a689d1af4219f"
      },
      "cell_type": "markdown",
      "source": [
        "## Tokenization\n",
        "* **word_tokenize**: tokenize a string to words\n",
        "* **sent_tokenize**: tokenize a string to sentences"
      ],
      "id": "be5a689d1af4219f"
    },
    {
      "metadata": {
        "ExecuteTime": {
          "end_time": "2024-06-09T11:38:31.153198Z",
          "start_time": "2024-06-09T11:38:31.150733Z"
        },
        "id": "b96c1c47a2a2de83",
        "outputId": "1f7517db-6c75-4303-e744-e5e7a8ce3e0e"
      },
      "cell_type": "code",
      "source": [
        "text11 = \"Children shouldn't drink a sugary drink before bed.\"\n",
        "text11.split(' ')"
      ],
      "id": "b96c1c47a2a2de83",
      "outputs": [
        {
          "data": {
            "text/plain": [
              "['Children', \"shouldn't\", 'drink', 'a', 'sugary', 'drink', 'before', 'bed.']"
            ]
          },
          "execution_count": 19,
          "metadata": {},
          "output_type": "execute_result"
        }
      ],
      "execution_count": null
    },
    {
      "metadata": {
        "ExecuteTime": {
          "end_time": "2024-06-09T11:38:31.678527Z",
          "start_time": "2024-06-09T11:38:31.670213Z"
        },
        "id": "8a41461c54ddf67",
        "outputId": "720eedd4-ef00-465d-be57-faf2595f215d"
      },
      "cell_type": "code",
      "source": [
        "nltk.word_tokenize(text11)"
      ],
      "id": "8a41461c54ddf67",
      "outputs": [
        {
          "data": {
            "text/plain": [
              "['Children',\n",
              " 'should',\n",
              " \"n't\",\n",
              " 'drink',\n",
              " 'a',\n",
              " 'sugary',\n",
              " 'drink',\n",
              " 'before',\n",
              " 'bed',\n",
              " '.']"
            ]
          },
          "execution_count": 20,
          "metadata": {},
          "output_type": "execute_result"
        }
      ],
      "execution_count": null
    },
    {
      "metadata": {
        "ExecuteTime": {
          "end_time": "2024-06-09T11:38:31.897769Z",
          "start_time": "2024-06-09T11:38:31.894678Z"
        },
        "id": "80c989b85df82f1e",
        "outputId": "13535648-5941-45db-c3a5-e7304cf4c527",
        "colab": {
          "base_uri": "https://localhost:8080/"
        }
      },
      "cell_type": "code",
      "source": [
        "nltk.download('punkt')\n",
        "text12 = \"This is the first sentence. A gallon of milk in the U.S. costs $2.99. Is this the third sentence? Yes, it is!\"\n",
        "sentences = nltk.sent_tokenize(text12)\n",
        "len(sentences)"
      ],
      "id": "80c989b85df82f1e",
      "outputs": [
        {
          "output_type": "stream",
          "name": "stderr",
          "text": [
            "[nltk_data] Downloading package punkt to /root/nltk_data...\n",
            "[nltk_data]   Unzipping tokenizers/punkt.zip.\n"
          ]
        },
        {
          "output_type": "execute_result",
          "data": {
            "text/plain": [
              "4"
            ]
          },
          "metadata": {},
          "execution_count": 15
        }
      ],
      "execution_count": null
    },
    {
      "metadata": {
        "ExecuteTime": {
          "end_time": "2024-06-09T11:38:32.211883Z",
          "start_time": "2024-06-09T11:38:32.209761Z"
        },
        "id": "2382d038ed7f9955",
        "outputId": "8991f792-6e6a-4d00-905c-d355cf36644a"
      },
      "cell_type": "code",
      "source": [
        "sentences"
      ],
      "id": "2382d038ed7f9955",
      "outputs": [
        {
          "data": {
            "text/plain": [
              "['This is the first sentence.',\n",
              " 'A gallon of milk in the U.S. costs $2.99.',\n",
              " 'Is this the third sentence?',\n",
              " 'Yes, it is!']"
            ]
          },
          "execution_count": 22,
          "metadata": {},
          "output_type": "execute_result"
        }
      ],
      "execution_count": null
    },
    {
      "metadata": {
        "ExecuteTime": {
          "end_time": "2024-06-09T11:38:32.795358Z",
          "start_time": "2024-06-09T11:38:32.793867Z"
        },
        "id": "ebf774752a3d99fd"
      },
      "cell_type": "code",
      "source": [],
      "id": "ebf774752a3d99fd",
      "outputs": [],
      "execution_count": null
    },
    {
      "metadata": {
        "ExecuteTime": {
          "end_time": "2024-06-09T15:07:25.585397Z",
          "start_time": "2024-06-09T15:07:25.583865Z"
        },
        "id": "4f96b8c73fc1658f"
      },
      "cell_type": "code",
      "source": [],
      "id": "4f96b8c73fc1658f",
      "outputs": [],
      "execution_count": null
    },
    {
      "metadata": {
        "id": "9390ad7381274922"
      },
      "cell_type": "code",
      "outputs": [],
      "execution_count": null,
      "source": [],
      "id": "9390ad7381274922"
    }
  ],
  "metadata": {
    "kernelspec": {
      "display_name": "Python 3",
      "language": "python",
      "name": "python3"
    },
    "language_info": {
      "codemirror_mode": {
        "name": "ipython",
        "version": 2
      },
      "file_extension": ".py",
      "mimetype": "text/x-python",
      "name": "python",
      "nbconvert_exporter": "python",
      "pygments_lexer": "ipython2",
      "version": "2.7.6"
    },
    "colab": {
      "provenance": []
    }
  },
  "nbformat": 4,
  "nbformat_minor": 5
}