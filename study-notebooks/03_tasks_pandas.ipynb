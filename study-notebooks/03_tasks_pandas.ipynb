{
  "cells": [
    {
      "cell_type": "code",
      "id": "initial_id",
      "metadata": {
        "collapsed": true,
        "ExecuteTime": {
          "end_time": "2024-06-09T12:36:33.167673Z",
          "start_time": "2024-06-09T12:36:33.165598Z"
        },
        "id": "initial_id"
      },
      "source": [
        "import pandas as pd"
      ],
      "outputs": [],
      "execution_count": null
    },
    {
      "metadata": {
        "ExecuteTime": {
          "end_time": "2024-06-09T12:36:33.488550Z",
          "start_time": "2024-06-09T12:36:33.479122Z"
        },
        "id": "2f69854f8333c2d4"
      },
      "cell_type": "code",
      "source": [
        "spam = pd.read_csv('spam.csv')\n",
        "iris = pd.read_csv('iris.csv')"
      ],
      "id": "2f69854f8333c2d4",
      "outputs": [],
      "execution_count": null
    },
    {
      "metadata": {
        "ExecuteTime": {
          "end_time": "2024-05-19T08:41:04.955345Z",
          "start_time": "2024-05-19T08:41:04.948945Z"
        },
        "id": "5c6f643f8c28701c",
        "outputId": "b1192c27-98e6-431c-b57a-44ee441314ba",
        "colab": {
          "base_uri": "https://localhost:8080/",
          "height": 206
        }
      },
      "cell_type": "code",
      "source": [
        "spam.head()"
      ],
      "id": "5c6f643f8c28701c",
      "outputs": [
        {
          "output_type": "execute_result",
          "data": {
            "text/plain": [
              "                                                text target\n",
              "0  Go until jurong point, crazy.. Available only ...    ham\n",
              "1                      Ok lar... Joking wif u oni...    ham\n",
              "2  Free entry in 2 a wkly comp to win FA Cup fina...   spam\n",
              "3  U dun say so early hor... U c already then say...    ham\n",
              "4  Nah I don't think he goes to usf, he lives aro...    ham"
            ],
            "text/html": [
              "\n",
              "  <div id=\"df-1b05d798-1ac5-4008-89e3-093c6d084d77\" class=\"colab-df-container\">\n",
              "    <div>\n",
              "<style scoped>\n",
              "    .dataframe tbody tr th:only-of-type {\n",
              "        vertical-align: middle;\n",
              "    }\n",
              "\n",
              "    .dataframe tbody tr th {\n",
              "        vertical-align: top;\n",
              "    }\n",
              "\n",
              "    .dataframe thead th {\n",
              "        text-align: right;\n",
              "    }\n",
              "</style>\n",
              "<table border=\"1\" class=\"dataframe\">\n",
              "  <thead>\n",
              "    <tr style=\"text-align: right;\">\n",
              "      <th></th>\n",
              "      <th>text</th>\n",
              "      <th>target</th>\n",
              "    </tr>\n",
              "  </thead>\n",
              "  <tbody>\n",
              "    <tr>\n",
              "      <th>0</th>\n",
              "      <td>Go until jurong point, crazy.. Available only ...</td>\n",
              "      <td>ham</td>\n",
              "    </tr>\n",
              "    <tr>\n",
              "      <th>1</th>\n",
              "      <td>Ok lar... Joking wif u oni...</td>\n",
              "      <td>ham</td>\n",
              "    </tr>\n",
              "    <tr>\n",
              "      <th>2</th>\n",
              "      <td>Free entry in 2 a wkly comp to win FA Cup fina...</td>\n",
              "      <td>spam</td>\n",
              "    </tr>\n",
              "    <tr>\n",
              "      <th>3</th>\n",
              "      <td>U dun say so early hor... U c already then say...</td>\n",
              "      <td>ham</td>\n",
              "    </tr>\n",
              "    <tr>\n",
              "      <th>4</th>\n",
              "      <td>Nah I don't think he goes to usf, he lives aro...</td>\n",
              "      <td>ham</td>\n",
              "    </tr>\n",
              "  </tbody>\n",
              "</table>\n",
              "</div>\n",
              "    <div class=\"colab-df-buttons\">\n",
              "\n",
              "  <div class=\"colab-df-container\">\n",
              "    <button class=\"colab-df-convert\" onclick=\"convertToInteractive('df-1b05d798-1ac5-4008-89e3-093c6d084d77')\"\n",
              "            title=\"Convert this dataframe to an interactive table.\"\n",
              "            style=\"display:none;\">\n",
              "\n",
              "  <svg xmlns=\"http://www.w3.org/2000/svg\" height=\"24px\" viewBox=\"0 -960 960 960\">\n",
              "    <path d=\"M120-120v-720h720v720H120Zm60-500h600v-160H180v160Zm220 220h160v-160H400v160Zm0 220h160v-160H400v160ZM180-400h160v-160H180v160Zm440 0h160v-160H620v160ZM180-180h160v-160H180v160Zm440 0h160v-160H620v160Z\"/>\n",
              "  </svg>\n",
              "    </button>\n",
              "\n",
              "  <style>\n",
              "    .colab-df-container {\n",
              "      display:flex;\n",
              "      gap: 12px;\n",
              "    }\n",
              "\n",
              "    .colab-df-convert {\n",
              "      background-color: #E8F0FE;\n",
              "      border: none;\n",
              "      border-radius: 50%;\n",
              "      cursor: pointer;\n",
              "      display: none;\n",
              "      fill: #1967D2;\n",
              "      height: 32px;\n",
              "      padding: 0 0 0 0;\n",
              "      width: 32px;\n",
              "    }\n",
              "\n",
              "    .colab-df-convert:hover {\n",
              "      background-color: #E2EBFA;\n",
              "      box-shadow: 0px 1px 2px rgba(60, 64, 67, 0.3), 0px 1px 3px 1px rgba(60, 64, 67, 0.15);\n",
              "      fill: #174EA6;\n",
              "    }\n",
              "\n",
              "    .colab-df-buttons div {\n",
              "      margin-bottom: 4px;\n",
              "    }\n",
              "\n",
              "    [theme=dark] .colab-df-convert {\n",
              "      background-color: #3B4455;\n",
              "      fill: #D2E3FC;\n",
              "    }\n",
              "\n",
              "    [theme=dark] .colab-df-convert:hover {\n",
              "      background-color: #434B5C;\n",
              "      box-shadow: 0px 1px 3px 1px rgba(0, 0, 0, 0.15);\n",
              "      filter: drop-shadow(0px 1px 2px rgba(0, 0, 0, 0.3));\n",
              "      fill: #FFFFFF;\n",
              "    }\n",
              "  </style>\n",
              "\n",
              "    <script>\n",
              "      const buttonEl =\n",
              "        document.querySelector('#df-1b05d798-1ac5-4008-89e3-093c6d084d77 button.colab-df-convert');\n",
              "      buttonEl.style.display =\n",
              "        google.colab.kernel.accessAllowed ? 'block' : 'none';\n",
              "\n",
              "      async function convertToInteractive(key) {\n",
              "        const element = document.querySelector('#df-1b05d798-1ac5-4008-89e3-093c6d084d77');\n",
              "        const dataTable =\n",
              "          await google.colab.kernel.invokeFunction('convertToInteractive',\n",
              "                                                    [key], {});\n",
              "        if (!dataTable) return;\n",
              "\n",
              "        const docLinkHtml = 'Like what you see? Visit the ' +\n",
              "          '<a target=\"_blank\" href=https://colab.research.google.com/notebooks/data_table.ipynb>data table notebook</a>'\n",
              "          + ' to learn more about interactive tables.';\n",
              "        element.innerHTML = '';\n",
              "        dataTable['output_type'] = 'display_data';\n",
              "        await google.colab.output.renderOutput(dataTable, element);\n",
              "        const docLink = document.createElement('div');\n",
              "        docLink.innerHTML = docLinkHtml;\n",
              "        element.appendChild(docLink);\n",
              "      }\n",
              "    </script>\n",
              "  </div>\n",
              "\n",
              "\n",
              "<div id=\"df-48b59930-906c-4f7a-90b3-9828e773a444\">\n",
              "  <button class=\"colab-df-quickchart\" onclick=\"quickchart('df-48b59930-906c-4f7a-90b3-9828e773a444')\"\n",
              "            title=\"Suggest charts\"\n",
              "            style=\"display:none;\">\n",
              "\n",
              "<svg xmlns=\"http://www.w3.org/2000/svg\" height=\"24px\"viewBox=\"0 0 24 24\"\n",
              "     width=\"24px\">\n",
              "    <g>\n",
              "        <path d=\"M19 3H5c-1.1 0-2 .9-2 2v14c0 1.1.9 2 2 2h14c1.1 0 2-.9 2-2V5c0-1.1-.9-2-2-2zM9 17H7v-7h2v7zm4 0h-2V7h2v10zm4 0h-2v-4h2v4z\"/>\n",
              "    </g>\n",
              "</svg>\n",
              "  </button>\n",
              "\n",
              "<style>\n",
              "  .colab-df-quickchart {\n",
              "      --bg-color: #E8F0FE;\n",
              "      --fill-color: #1967D2;\n",
              "      --hover-bg-color: #E2EBFA;\n",
              "      --hover-fill-color: #174EA6;\n",
              "      --disabled-fill-color: #AAA;\n",
              "      --disabled-bg-color: #DDD;\n",
              "  }\n",
              "\n",
              "  [theme=dark] .colab-df-quickchart {\n",
              "      --bg-color: #3B4455;\n",
              "      --fill-color: #D2E3FC;\n",
              "      --hover-bg-color: #434B5C;\n",
              "      --hover-fill-color: #FFFFFF;\n",
              "      --disabled-bg-color: #3B4455;\n",
              "      --disabled-fill-color: #666;\n",
              "  }\n",
              "\n",
              "  .colab-df-quickchart {\n",
              "    background-color: var(--bg-color);\n",
              "    border: none;\n",
              "    border-radius: 50%;\n",
              "    cursor: pointer;\n",
              "    display: none;\n",
              "    fill: var(--fill-color);\n",
              "    height: 32px;\n",
              "    padding: 0;\n",
              "    width: 32px;\n",
              "  }\n",
              "\n",
              "  .colab-df-quickchart:hover {\n",
              "    background-color: var(--hover-bg-color);\n",
              "    box-shadow: 0 1px 2px rgba(60, 64, 67, 0.3), 0 1px 3px 1px rgba(60, 64, 67, 0.15);\n",
              "    fill: var(--button-hover-fill-color);\n",
              "  }\n",
              "\n",
              "  .colab-df-quickchart-complete:disabled,\n",
              "  .colab-df-quickchart-complete:disabled:hover {\n",
              "    background-color: var(--disabled-bg-color);\n",
              "    fill: var(--disabled-fill-color);\n",
              "    box-shadow: none;\n",
              "  }\n",
              "\n",
              "  .colab-df-spinner {\n",
              "    border: 2px solid var(--fill-color);\n",
              "    border-color: transparent;\n",
              "    border-bottom-color: var(--fill-color);\n",
              "    animation:\n",
              "      spin 1s steps(1) infinite;\n",
              "  }\n",
              "\n",
              "  @keyframes spin {\n",
              "    0% {\n",
              "      border-color: transparent;\n",
              "      border-bottom-color: var(--fill-color);\n",
              "      border-left-color: var(--fill-color);\n",
              "    }\n",
              "    20% {\n",
              "      border-color: transparent;\n",
              "      border-left-color: var(--fill-color);\n",
              "      border-top-color: var(--fill-color);\n",
              "    }\n",
              "    30% {\n",
              "      border-color: transparent;\n",
              "      border-left-color: var(--fill-color);\n",
              "      border-top-color: var(--fill-color);\n",
              "      border-right-color: var(--fill-color);\n",
              "    }\n",
              "    40% {\n",
              "      border-color: transparent;\n",
              "      border-right-color: var(--fill-color);\n",
              "      border-top-color: var(--fill-color);\n",
              "    }\n",
              "    60% {\n",
              "      border-color: transparent;\n",
              "      border-right-color: var(--fill-color);\n",
              "    }\n",
              "    80% {\n",
              "      border-color: transparent;\n",
              "      border-right-color: var(--fill-color);\n",
              "      border-bottom-color: var(--fill-color);\n",
              "    }\n",
              "    90% {\n",
              "      border-color: transparent;\n",
              "      border-bottom-color: var(--fill-color);\n",
              "    }\n",
              "  }\n",
              "</style>\n",
              "\n",
              "  <script>\n",
              "    async function quickchart(key) {\n",
              "      const quickchartButtonEl =\n",
              "        document.querySelector('#' + key + ' button');\n",
              "      quickchartButtonEl.disabled = true;  // To prevent multiple clicks.\n",
              "      quickchartButtonEl.classList.add('colab-df-spinner');\n",
              "      try {\n",
              "        const charts = await google.colab.kernel.invokeFunction(\n",
              "            'suggestCharts', [key], {});\n",
              "      } catch (error) {\n",
              "        console.error('Error during call to suggestCharts:', error);\n",
              "      }\n",
              "      quickchartButtonEl.classList.remove('colab-df-spinner');\n",
              "      quickchartButtonEl.classList.add('colab-df-quickchart-complete');\n",
              "    }\n",
              "    (() => {\n",
              "      let quickchartButtonEl =\n",
              "        document.querySelector('#df-48b59930-906c-4f7a-90b3-9828e773a444 button');\n",
              "      quickchartButtonEl.style.display =\n",
              "        google.colab.kernel.accessAllowed ? 'block' : 'none';\n",
              "    })();\n",
              "  </script>\n",
              "</div>\n",
              "\n",
              "    </div>\n",
              "  </div>\n"
            ],
            "application/vnd.google.colaboratory.intrinsic+json": {
              "type": "dataframe",
              "variable_name": "spam",
              "summary": "{\n  \"name\": \"spam\",\n  \"rows\": 5572,\n  \"fields\": [\n    {\n      \"column\": \"text\",\n      \"properties\": {\n        \"dtype\": \"string\",\n        \"num_unique_values\": 5169,\n        \"samples\": [\n          \"Did u download the fring app?\",\n          \"Pass dis to all ur contacts n see wat u get! Red;i'm in luv wid u. Blue;u put a smile on my face. Purple;u r realy hot. Pink;u r so swt. Orange;i thnk i lyk u. Green;i realy wana go out wid u. Yelow;i wnt u bck. Black;i'm jealous of u. Brown;i miss you Nw plz giv me one color\",\n          \"Ok...\"\n        ],\n        \"semantic_type\": \"\",\n        \"description\": \"\"\n      }\n    },\n    {\n      \"column\": \"target\",\n      \"properties\": {\n        \"dtype\": \"category\",\n        \"num_unique_values\": 2,\n        \"samples\": [\n          \"spam\",\n          \"ham\"\n        ],\n        \"semantic_type\": \"\",\n        \"description\": \"\"\n      }\n    }\n  ]\n}"
            }
          },
          "metadata": {},
          "execution_count": 3
        }
      ],
      "execution_count": null
    },
    {
      "metadata": {
        "id": "4205b49325fc65c6"
      },
      "cell_type": "markdown",
      "source": [
        "### Question 1\n",
        "What percentage of the documents in `spam` data are spam?, and creat bar chart"
      ],
      "id": "4205b49325fc65c6"
    },
    {
      "cell_type": "code",
      "source": [
        "print(f\"{sum(spam.target=='spam')/len(spam):0.2} of data are spam\")"
      ],
      "metadata": {
        "colab": {
          "base_uri": "https://localhost:8080/"
        },
        "id": "02qJR0tB7X7z",
        "outputId": "a80306ea-cd16-43b2-9cae-3137fac313e6"
      },
      "id": "02qJR0tB7X7z",
      "execution_count": null,
      "outputs": [
        {
          "output_type": "stream",
          "name": "stdout",
          "text": [
            "0.13 of data are spam\n"
          ]
        }
      ]
    },
    {
      "cell_type": "code",
      "source": [
        "spam['target'].value_counts().plot(kind=\"pie\", autopct='%1.1f%%')"
      ],
      "metadata": {
        "colab": {
          "base_uri": "https://localhost:8080/",
          "height": 423
        },
        "id": "655NsChn73WW",
        "outputId": "6c7e2d38-4ba7-43fa-8e46-ef8468760607"
      },
      "id": "655NsChn73WW",
      "execution_count": null,
      "outputs": [
        {
          "output_type": "execute_result",
          "data": {
            "text/plain": [
              "<Axes: ylabel='count'>"
            ]
          },
          "metadata": {},
          "execution_count": 18
        },
        {
          "output_type": "display_data",
          "data": {
            "text/plain": [
              "<Figure size 640x480 with 1 Axes>"
            ],
            "image/png": "[encoded data removed]"
          },
          "metadata": {}
        }
      ]
    },
    {
      "metadata": {
        "id": "9aa460aef2aa829f"
      },
      "cell_type": "markdown",
      "source": [
        "<style>\n",
        "    .answer {\n",
        "        display: none;\n",
        "    }\n",
        "</style>\n",
        "\n",
        "<details>\n",
        "    <summary>Click to reveal answer</summary>\n",
        "    <div class=\"answer\">\n",
        "    <pre>\n",
        "    <code>\n",
        "    spam.target.value_counts(normalize=True)\n",
        "    </code>\n",
        "    </pre>\n",
        "    </div>\n",
        "</details>\n"
      ],
      "id": "9aa460aef2aa829f"
    },
    {
      "metadata": {
        "id": "1e3960fcc588ee78"
      },
      "cell_type": "markdown",
      "source": [
        "### Question 2\n",
        "Calculate the length of each text, save it in column called length"
      ],
      "id": "1e3960fcc588ee78"
    },
    {
      "metadata": {
        "ExecuteTime": {
          "end_time": "2024-06-09T12:37:25.037932Z",
          "start_time": "2024-06-09T12:37:25.033729Z"
        },
        "id": "bad3b986cfbe9922",
        "colab": {
          "base_uri": "https://localhost:8080/",
          "height": 223
        },
        "outputId": "e7628ebb-9ee9-47d2-9bf1-13889017925a"
      },
      "cell_type": "code",
      "source": [
        "spam['length'] = spam.text.str.len()\n",
        "spam.head()"
      ],
      "id": "bad3b986cfbe9922",
      "outputs": [
        {
          "output_type": "execute_result",
          "data": {
            "text/plain": [
              "                                                text target  length\n",
              "0  Go until jurong point, crazy.. Available only ...    ham     111\n",
              "1                      Ok lar... Joking wif u oni...    ham      29\n",
              "2  Free entry in 2 a wkly comp to win FA Cup fina...   spam     155\n",
              "3  U dun say so early hor... U c already then say...    ham      49\n",
              "4  Nah I don't think he goes to usf, he lives aro...    ham      61"
            ],
            "text/html": [
              "\n",
              "  <div id=\"df-b53fbd29-4b0c-45a7-8cf6-aadd64826160\" class=\"colab-df-container\">\n",
              "    <div>\n",
              "<style scoped>\n",
              "    .dataframe tbody tr th:only-of-type {\n",
              "        vertical-align: middle;\n",
              "    }\n",
              "\n",
              "    .dataframe tbody tr th {\n",
              "        vertical-align: top;\n",
              "    }\n",
              "\n",
              "    .dataframe thead th {\n",
              "        text-align: right;\n",
              "    }\n",
              "</style>\n",
              "<table border=\"1\" class=\"dataframe\">\n",
              "  <thead>\n",
              "    <tr style=\"text-align: right;\">\n",
              "      <th></th>\n",
              "      <th>text</th>\n",
              "      <th>target</th>\n",
              "      <th>length</th>\n",
              "    </tr>\n",
              "  </thead>\n",
              "  <tbody>\n",
              "    <tr>\n",
              "      <th>0</th>\n",
              "      <td>Go until jurong point, crazy.. Available only ...</td>\n",
              "      <td>ham</td>\n",
              "      <td>111</td>\n",
              "    </tr>\n",
              "    <tr>\n",
              "      <th>1</th>\n",
              "      <td>Ok lar... Joking wif u oni...</td>\n",
              "      <td>ham</td>\n",
              "      <td>29</td>\n",
              "    </tr>\n",
              "    <tr>\n",
              "      <th>2</th>\n",
              "      <td>Free entry in 2 a wkly comp to win FA Cup fina...</td>\n",
              "      <td>spam</td>\n",
              "      <td>155</td>\n",
              "    </tr>\n",
              "    <tr>\n",
              "      <th>3</th>\n",
              "      <td>U dun say so early hor... U c already then say...</td>\n",
              "      <td>ham</td>\n",
              "      <td>49</td>\n",
              "    </tr>\n",
              "    <tr>\n",
              "      <th>4</th>\n",
              "      <td>Nah I don't think he goes to usf, he lives aro...</td>\n",
              "      <td>ham</td>\n",
              "      <td>61</td>\n",
              "    </tr>\n",
              "  </tbody>\n",
              "</table>\n",
              "</div>\n",
              "    <div class=\"colab-df-buttons\">\n",
              "\n",
              "  <div class=\"colab-df-container\">\n",
              "    <button class=\"colab-df-convert\" onclick=\"convertToInteractive('df-b53fbd29-4b0c-45a7-8cf6-aadd64826160')\"\n",
              "            title=\"Convert this dataframe to an interactive table.\"\n",
              "            style=\"display:none;\">\n",
              "\n",
              "  <svg xmlns=\"http://www.w3.org/2000/svg\" height=\"24px\" viewBox=\"0 -960 960 960\">\n",
              "    <path d=\"M120-120v-720h720v720H120Zm60-500h600v-160H180v160Zm220 220h160v-160H400v160Zm0 220h160v-160H400v160ZM180-400h160v-160H180v160Zm440 0h160v-160H620v160ZM180-180h160v-160H180v160Zm440 0h160v-160H620v160Z\"/>\n",
              "  </svg>\n",
              "    </button>\n",
              "\n",
              "  <style>\n",
              "    .colab-df-container {\n",
              "      display:flex;\n",
              "      gap: 12px;\n",
              "    }\n",
              "\n",
              "    .colab-df-convert {\n",
              "      background-color: #E8F0FE;\n",
              "      border: none;\n",
              "      border-radius: 50%;\n",
              "      cursor: pointer;\n",
              "      display: none;\n",
              "      fill: #1967D2;\n",
              "      height: 32px;\n",
              "      padding: 0 0 0 0;\n",
              "      width: 32px;\n",
              "    }\n",
              "\n",
              "    .colab-df-convert:hover {\n",
              "      background-color: #E2EBFA;\n",
              "      box-shadow: 0px 1px 2px rgba(60, 64, 67, 0.3), 0px 1px 3px 1px rgba(60, 64, 67, 0.15);\n",
              "      fill: #174EA6;\n",
              "    }\n",
              "\n",
              "    .colab-df-buttons div {\n",
              "      margin-bottom: 4px;\n",
              "    }\n",
              "\n",
              "    [theme=dark] .colab-df-convert {\n",
              "      background-color: #3B4455;\n",
              "      fill: #D2E3FC;\n",
              "    }\n",
              "\n",
              "    [theme=dark] .colab-df-convert:hover {\n",
              "      background-color: #434B5C;\n",
              "      box-shadow: 0px 1px 3px 1px rgba(0, 0, 0, 0.15);\n",
              "      filter: drop-shadow(0px 1px 2px rgba(0, 0, 0, 0.3));\n",
              "      fill: #FFFFFF;\n",
              "    }\n",
              "  </style>\n",
              "\n",
              "    <script>\n",
              "      const buttonEl =\n",
              "        document.querySelector('#df-b53fbd29-4b0c-45a7-8cf6-aadd64826160 button.colab-df-convert');\n",
              "      buttonEl.style.display =\n",
              "        google.colab.kernel.accessAllowed ? 'block' : 'none';\n",
              "\n",
              "      async function convertToInteractive(key) {\n",
              "        const element = document.querySelector('#df-b53fbd29-4b0c-45a7-8cf6-aadd64826160');\n",
              "        const dataTable =\n",
              "          await google.colab.kernel.invokeFunction('convertToInteractive',\n",
              "                                                    [key], {});\n",
              "        if (!dataTable) return;\n",
              "\n",
              "        const docLinkHtml = 'Like what you see? Visit the ' +\n",
              "          '<a target=\"_blank\" href=https://colab.research.google.com/notebooks/data_table.ipynb>data table notebook</a>'\n",
              "          + ' to learn more about interactive tables.';\n",
              "        element.innerHTML = '';\n",
              "        dataTable['output_type'] = 'display_data';\n",
              "        await google.colab.output.renderOutput(dataTable, element);\n",
              "        const docLink = document.createElement('div');\n",
              "        docLink.innerHTML = docLinkHtml;\n",
              "        element.appendChild(docLink);\n",
              "      }\n",
              "    </script>\n",
              "  </div>\n",
              "\n",
              "\n",
              "<div id=\"df-e91c4209-3601-44a6-a378-0627831529c1\">\n",
              "  <button class=\"colab-df-quickchart\" onclick=\"quickchart('df-e91c4209-3601-44a6-a378-0627831529c1')\"\n",
              "            title=\"Suggest charts\"\n",
              "            style=\"display:none;\">\n",
              "\n",
              "<svg xmlns=\"http://www.w3.org/2000/svg\" height=\"24px\"viewBox=\"0 0 24 24\"\n",
              "     width=\"24px\">\n",
              "    <g>\n",
              "        <path d=\"M19 3H5c-1.1 0-2 .9-2 2v14c0 1.1.9 2 2 2h14c1.1 0 2-.9 2-2V5c0-1.1-.9-2-2-2zM9 17H7v-7h2v7zm4 0h-2V7h2v10zm4 0h-2v-4h2v4z\"/>\n",
              "    </g>\n",
              "</svg>\n",
              "  </button>\n",
              "\n",
              "<style>\n",
              "  .colab-df-quickchart {\n",
              "      --bg-color: #E8F0FE;\n",
              "      --fill-color: #1967D2;\n",
              "      --hover-bg-color: #E2EBFA;\n",
              "      --hover-fill-color: #174EA6;\n",
              "      --disabled-fill-color: #AAA;\n",
              "      --disabled-bg-color: #DDD;\n",
              "  }\n",
              "\n",
              "  [theme=dark] .colab-df-quickchart {\n",
              "      --bg-color: #3B4455;\n",
              "      --fill-color: #D2E3FC;\n",
              "      --hover-bg-color: #434B5C;\n",
              "      --hover-fill-color: #FFFFFF;\n",
              "      --disabled-bg-color: #3B4455;\n",
              "      --disabled-fill-color: #666;\n",
              "  }\n",
              "\n",
              "  .colab-df-quickchart {\n",
              "    background-color: var(--bg-color);\n",
              "    border: none;\n",
              "    border-radius: 50%;\n",
              "    cursor: pointer;\n",
              "    display: none;\n",
              "    fill: var(--fill-color);\n",
              "    height: 32px;\n",
              "    padding: 0;\n",
              "    width: 32px;\n",
              "  }\n",
              "\n",
              "  .colab-df-quickchart:hover {\n",
              "    background-color: var(--hover-bg-color);\n",
              "    box-shadow: 0 1px 2px rgba(60, 64, 67, 0.3), 0 1px 3px 1px rgba(60, 64, 67, 0.15);\n",
              "    fill: var(--button-hover-fill-color);\n",
              "  }\n",
              "\n",
              "  .colab-df-quickchart-complete:disabled,\n",
              "  .colab-df-quickchart-complete:disabled:hover {\n",
              "    background-color: var(--disabled-bg-color);\n",
              "    fill: var(--disabled-fill-color);\n",
              "    box-shadow: none;\n",
              "  }\n",
              "\n",
              "  .colab-df-spinner {\n",
              "    border: 2px solid var(--fill-color);\n",
              "    border-color: transparent;\n",
              "    border-bottom-color: var(--fill-color);\n",
              "    animation:\n",
              "      spin 1s steps(1) infinite;\n",
              "  }\n",
              "\n",
              "  @keyframes spin {\n",
              "    0% {\n",
              "      border-color: transparent;\n",
              "      border-bottom-color: var(--fill-color);\n",
              "      border-left-color: var(--fill-color);\n",
              "    }\n",
              "    20% {\n",
              "      border-color: transparent;\n",
              "      border-left-color: var(--fill-color);\n",
              "      border-top-color: var(--fill-color);\n",
              "    }\n",
              "    30% {\n",
              "      border-color: transparent;\n",
              "      border-left-color: var(--fill-color);\n",
              "      border-top-color: var(--fill-color);\n",
              "      border-right-color: var(--fill-color);\n",
              "    }\n",
              "    40% {\n",
              "      border-color: transparent;\n",
              "      border-right-color: var(--fill-color);\n",
              "      border-top-color: var(--fill-color);\n",
              "    }\n",
              "    60% {\n",
              "      border-color: transparent;\n",
              "      border-right-color: var(--fill-color);\n",
              "    }\n",
              "    80% {\n",
              "      border-color: transparent;\n",
              "      border-right-color: var(--fill-color);\n",
              "      border-bottom-color: var(--fill-color);\n",
              "    }\n",
              "    90% {\n",
              "      border-color: transparent;\n",
              "      border-bottom-color: var(--fill-color);\n",
              "    }\n",
              "  }\n",
              "</style>\n",
              "\n",
              "  <script>\n",
              "    async function quickchart(key) {\n",
              "      const quickchartButtonEl =\n",
              "        document.querySelector('#' + key + ' button');\n",
              "      quickchartButtonEl.disabled = true;  // To prevent multiple clicks.\n",
              "      quickchartButtonEl.classList.add('colab-df-spinner');\n",
              "      try {\n",
              "        const charts = await google.colab.kernel.invokeFunction(\n",
              "            'suggestCharts', [key], {});\n",
              "      } catch (error) {\n",
              "        console.error('Error during call to suggestCharts:', error);\n",
              "      }\n",
              "      quickchartButtonEl.classList.remove('colab-df-spinner');\n",
              "      quickchartButtonEl.classList.add('colab-df-quickchart-complete');\n",
              "    }\n",
              "    (() => {\n",
              "      let quickchartButtonEl =\n",
              "        document.querySelector('#df-e91c4209-3601-44a6-a378-0627831529c1 button');\n",
              "      quickchartButtonEl.style.display =\n",
              "        google.colab.kernel.accessAllowed ? 'block' : 'none';\n",
              "    })();\n",
              "  </script>\n",
              "</div>\n",
              "\n",
              "    </div>\n",
              "  </div>\n"
            ],
            "application/vnd.google.colaboratory.intrinsic+json": {
              "type": "dataframe",
              "variable_name": "spam",
              "summary": "{\n  \"name\": \"spam\",\n  \"rows\": 5572,\n  \"fields\": [\n    {\n      \"column\": \"text\",\n      \"properties\": {\n        \"dtype\": \"string\",\n        \"num_unique_values\": 5169,\n        \"samples\": [\n          \"Did u download the fring app?\",\n          \"Pass dis to all ur contacts n see wat u get! Red;i'm in luv wid u. Blue;u put a smile on my face. Purple;u r realy hot. Pink;u r so swt. Orange;i thnk i lyk u. Green;i realy wana go out wid u. Yelow;i wnt u bck. Black;i'm jealous of u. Brown;i miss you Nw plz giv me one color\",\n          \"Ok...\"\n        ],\n        \"semantic_type\": \"\",\n        \"description\": \"\"\n      }\n    },\n    {\n      \"column\": \"target\",\n      \"properties\": {\n        \"dtype\": \"category\",\n        \"num_unique_values\": 2,\n        \"samples\": [\n          \"spam\",\n          \"ham\"\n        ],\n        \"semantic_type\": \"\",\n        \"description\": \"\"\n      }\n    },\n    {\n      \"column\": \"length\",\n      \"properties\": {\n        \"dtype\": \"number\",\n        \"std\": 59,\n        \"min\": 2,\n        \"max\": 910,\n        \"num_unique_values\": 274,\n        \"samples\": [\n          84,\n          177\n        ],\n        \"semantic_type\": \"\",\n        \"description\": \"\"\n      }\n    }\n  ]\n}"
            }
          },
          "metadata": {},
          "execution_count": 23
        }
      ],
      "execution_count": null
    },
    {
      "metadata": {
        "id": "176730d3c54302c"
      },
      "cell_type": "markdown",
      "source": [
        "<details>\n",
        "    <summary>Click to reveal answer</summary>\n",
        "    <p>spam['length'] = spam.text.str.len()</p>\n",
        "</details>\n"
      ],
      "id": "176730d3c54302c"
    },
    {
      "metadata": {
        "id": "2c4e25b1f03d2198"
      },
      "cell_type": "markdown",
      "source": [
        "### Question 3\n",
        "\n",
        "Find the longest spam message"
      ],
      "id": "2c4e25b1f03d2198"
    },
    {
      "metadata": {
        "ExecuteTime": {
          "end_time": "2024-05-19T08:45:36.639999Z",
          "start_time": "2024-05-19T08:45:36.637983Z"
        },
        "id": "2c5de4ee96f40e32",
        "colab": {
          "base_uri": "https://localhost:8080/",
          "height": 174
        },
        "outputId": "8e0ef09e-2f14-4a07-ec16-0cbbfb7f00e3"
      },
      "cell_type": "code",
      "source": [
        "spam.iloc[spam['length'].idxmax()]['text']"
      ],
      "id": "2c5de4ee96f40e32",
      "outputs": [
        {
          "output_type": "execute_result",
          "data": {
            "text/plain": [
              "\"For me the love should start with attraction.i should feel that I need her every time around me.she should be the first thing which comes in my thoughts.I would start the day and end it with her.she should be there every time I dream.love will be then when my every breath has her name.my life should happen around her.my life will be named to her.I would cry for her.will give all my happiness and take all her sorrows.I will be ready to fight with anyone for her.I will be in love when I will be doing the craziest things for her.love will be when I don't have to proove anyone that my girl is the most beautiful lady on the whole planet.I will always be singing praises for her.love will be when I start up making chicken curry and end up makiing sambar.life will be the most beautiful then.will get every morning and thank god for the day because she is with me.I would like to say a lot..will tell later..\""
            ],
            "application/vnd.google.colaboratory.intrinsic+json": {
              "type": "string"
            }
          },
          "metadata": {},
          "execution_count": 29
        }
      ],
      "execution_count": null
    },
    {
      "metadata": {
        "id": "17aa99abb4ec6346"
      },
      "cell_type": "markdown",
      "source": [
        "<style>\n",
        "    .answer {\n",
        "        display: none;\n",
        "    }\n",
        "</style>\n",
        "\n",
        "<details>\n",
        "    <summary>Click to reveal answer</summary>\n",
        "    <p class=\"answer\">\n",
        "    spam[spam[\"target\"] == \"spam\"].sort_values(by=\"length\", ascending=False).head(1)\n",
        "    </p>\n",
        "</details>\n"
      ],
      "id": "17aa99abb4ec6346"
    },
    {
      "metadata": {
        "id": "f6ebd72faf35f25b"
      },
      "cell_type": "markdown",
      "source": [],
      "id": "f6ebd72faf35f25b"
    },
    {
      "metadata": {
        "id": "e9bd9c9fecd22511"
      },
      "cell_type": "markdown",
      "source": [
        "### Questions 4\n",
        "Find the shortest spam message"
      ],
      "id": "e9bd9c9fecd22511"
    },
    {
      "metadata": {
        "id": "59da8c420d61128f"
      },
      "cell_type": "markdown",
      "source": [
        "<style>\n",
        "    .answer {\n",
        "        display: none;\n",
        "    }\n",
        "</style>\n",
        "\n",
        "<details>\n",
        "    <summary>Click to reveal answer</summary>\n",
        "    <div class=\"answer\">\n",
        "        <pre><code>\n",
        "        spam[spam[\"target\"] == \"spam\"].sort_values(by=\"length\", ascending=True).head(1)\n",
        "    </code></pre>\n",
        "    </div>\n",
        "</details>\n"
      ],
      "id": "59da8c420d61128f"
    },
    {
      "metadata": {
        "id": "84ace14f2c5db5f9"
      },
      "cell_type": "markdown",
      "source": [
        "### Question 5\n",
        "\n",
        "Find the longest ham message"
      ],
      "id": "84ace14f2c5db5f9"
    },
    {
      "cell_type": "code",
      "source": [
        "spam.iloc[spam[spam['target']=='ham']['length'].idxmax()]['text']"
      ],
      "metadata": {
        "colab": {
          "base_uri": "https://localhost:8080/",
          "height": 174
        },
        "id": "03sMg2cl_iVo",
        "outputId": "aec3a36e-5926-4de6-959c-fb994fb2e36b"
      },
      "id": "03sMg2cl_iVo",
      "execution_count": null,
      "outputs": [
        {
          "output_type": "execute_result",
          "data": {
            "text/plain": [
              "\"For me the love should start with attraction.i should feel that I need her every time around me.she should be the first thing which comes in my thoughts.I would start the day and end it with her.she should be there every time I dream.love will be then when my every breath has her name.my life should happen around her.my life will be named to her.I would cry for her.will give all my happiness and take all her sorrows.I will be ready to fight with anyone for her.I will be in love when I will be doing the craziest things for her.love will be when I don't have to proove anyone that my girl is the most beautiful lady on the whole planet.I will always be singing praises for her.love will be when I start up making chicken curry and end up makiing sambar.life will be the most beautiful then.will get every morning and thank god for the day because she is with me.I would like to say a lot..will tell later..\""
            ],
            "application/vnd.google.colaboratory.intrinsic+json": {
              "type": "string"
            }
          },
          "metadata": {},
          "execution_count": 32
        }
      ]
    },
    {
      "metadata": {
        "id": "ae0351d33239b133"
      },
      "cell_type": "markdown",
      "source": [
        "<style>\n",
        "    .answer {\n",
        "        display: none;\n",
        "    }\n",
        "</style>\n",
        "\n",
        "<details>\n",
        "    <summary>Click to reveal answer</summary>\n",
        "    <div class=\"answer\">\n",
        "        <pre><code>\n",
        "        spam[spam[\"target\"] == \"ham\"].sort_values(by=\"length\", ascending=False).head(1)\n",
        "    </code></pre>\n",
        "    </div>\n",
        "</details>\n"
      ],
      "id": "ae0351d33239b133"
    },
    {
      "metadata": {
        "id": "8cda0f42f183a929"
      },
      "cell_type": "markdown",
      "source": [
        "### Questions 6\n",
        "Find the shortest ham message"
      ],
      "id": "8cda0f42f183a929"
    },
    {
      "cell_type": "code",
      "source": [
        "spam.iloc[spam[spam['target']=='ham']['length'].idxmin()]['text']"
      ],
      "metadata": {
        "colab": {
          "base_uri": "https://localhost:8080/",
          "height": 35
        },
        "id": "XaK3Sn80AKBa",
        "outputId": "5bd18847-f39e-45c1-ce8c-bb9639c5dfe6"
      },
      "id": "XaK3Sn80AKBa",
      "execution_count": null,
      "outputs": [
        {
          "output_type": "execute_result",
          "data": {
            "text/plain": [
              "'Ok'"
            ],
            "application/vnd.google.colaboratory.intrinsic+json": {
              "type": "string"
            }
          },
          "metadata": {},
          "execution_count": 33
        }
      ]
    },
    {
      "metadata": {
        "id": "e8b81c91baa2a3c5"
      },
      "cell_type": "markdown",
      "source": [
        "<style>\n",
        "    .answer {\n",
        "        display: none;\n",
        "    }\n",
        "</style>\n",
        "\n",
        "<details>\n",
        "    <summary>Click to reveal answer</summary>\n",
        "    <div class=\"answer\">\n",
        "        <pre><code>\n",
        "        spam[spam[\"target\"] == \"ham\"].sort_values(by=\"length\", ascending=True).head(1)\n",
        "    </code></pre>\n",
        "    </div>\n",
        "</details>\n"
      ],
      "id": "e8b81c91baa2a3c5"
    },
    {
      "metadata": {
        "id": "102463695c8ad787"
      },
      "cell_type": "markdown",
      "source": [
        "### Questions 7\n",
        "Find the average length for ham message"
      ],
      "id": "102463695c8ad787"
    },
    {
      "metadata": {
        "id": "57f3fb9d4d4da81a"
      },
      "cell_type": "markdown",
      "source": [
        "<style>\n",
        "    .answer {\n",
        "        display: none;\n",
        "    }\n",
        "</style>\n",
        "\n",
        "<details>\n",
        "    <summary>Click to reveal answer</summary>\n",
        "    <div class=\"answer\">\n",
        "        <pre><code>\n",
        "        spam[spam[\"target\"] == \"ham\"].length.mean()\n",
        "    </code></pre>\n",
        "    </div>\n",
        "</details>\n"
      ],
      "id": "57f3fb9d4d4da81a"
    },
    {
      "metadata": {
        "ExecuteTime": {
          "end_time": "2024-05-19T08:44:08.416832Z",
          "start_time": "2024-05-19T08:44:08.415113Z"
        },
        "id": "bbec04237c964bef",
        "colab": {
          "base_uri": "https://localhost:8080/"
        },
        "outputId": "fb1758ba-f83d-4619-859b-97464bbe0ba5"
      },
      "cell_type": "code",
      "source": [
        "import numpy as np\n",
        "\n",
        "np.mean(spam[spam['target']=='ham']['length'])"
      ],
      "id": "bbec04237c964bef",
      "outputs": [
        {
          "output_type": "execute_result",
          "data": {
            "text/plain": [
              "71.02362694300518"
            ]
          },
          "metadata": {},
          "execution_count": 36
        }
      ],
      "execution_count": null
    },
    {
      "metadata": {
        "id": "92c61d0094cdba8e"
      },
      "cell_type": "markdown",
      "source": [
        "### Questions 8\n",
        "Find the average length for spam message"
      ],
      "id": "92c61d0094cdba8e"
    },
    {
      "cell_type": "code",
      "source": [
        "np.mean(spam[spam['target']=='spam']['length'])"
      ],
      "metadata": {
        "id": "ULSmEKclAjSH",
        "outputId": "e34c613a-d2bd-4e8f-e149-d2d8b97ecd9f",
        "colab": {
          "base_uri": "https://localhost:8080/"
        }
      },
      "id": "ULSmEKclAjSH",
      "execution_count": null,
      "outputs": [
        {
          "output_type": "execute_result",
          "data": {
            "text/plain": [
              "138.8661311914324"
            ]
          },
          "metadata": {},
          "execution_count": 37
        }
      ]
    },
    {
      "metadata": {
        "id": "7fde52a5db818270"
      },
      "cell_type": "markdown",
      "source": [
        "<style>\n",
        "    .answer { display: none;}\n",
        "</style>\n",
        "\n",
        "<details>\n",
        "    <summary>Click to reveal answer</summary>\n",
        "    <div class=\"answer\">\n",
        "        <pre><code>\n",
        "        spam[spam[\"target\"] == \"spam\"].length.mean()\n",
        "    </code></pre>\n",
        "    </div>\n",
        "</details>\n"
      ],
      "id": "7fde52a5db818270"
    },
    {
      "metadata": {
        "id": "fce5c94a9741fd92"
      },
      "cell_type": "markdown",
      "source": [
        "### Questions 9\n",
        "How many messages spam and ham their length is greater than then average?"
      ],
      "id": "fce5c94a9741fd92"
    },
    {
      "cell_type": "code",
      "source": [],
      "metadata": {
        "id": "DiwnxpOaAng6"
      },
      "id": "DiwnxpOaAng6",
      "execution_count": null,
      "outputs": []
    },
    {
      "metadata": {
        "id": "a5baec9142d0d25d"
      },
      "cell_type": "markdown",
      "source": [
        "<details>\n",
        "    <summary>Click to reveal answer</summary>\n",
        "    <div class=\"answer\">\n",
        "        <pre><code>\n",
        "        only_spam = spam[spam[\"target\"] == \"spam\"]\n",
        "        only_ham = spam[spam[\"target\"] == \"ham\"]\n",
        "        avg_spam = only_spam.length.mean()\n",
        "        avg_ham = only_ham.length.mean()\n",
        "        spam_above_avg = only_spam[only_spam.length > avg_spam]\n",
        "        ham_above_avg = only_ham[only_ham.length > avg_ham]\n",
        "    </code></pre>\n",
        "    </div>\n",
        "</details>"
      ],
      "id": "a5baec9142d0d25d"
    },
    {
      "metadata": {
        "id": "60f08edf020c6d5d"
      },
      "cell_type": "markdown",
      "source": [
        "### Questions 10\n",
        "Using the `iris` dataset, find the average sepal length for each species"
      ],
      "id": "60f08edf020c6d5d"
    },
    {
      "metadata": {
        "ExecuteTime": {
          "end_time": "2024-06-08T09:36:58.944291Z",
          "start_time": "2024-06-08T09:36:58.942156Z"
        },
        "id": "f3d23a60a1ad9d5e"
      },
      "cell_type": "code",
      "source": [],
      "id": "f3d23a60a1ad9d5e",
      "outputs": [],
      "execution_count": null
    },
    {
      "metadata": {
        "id": "237653c86a0dc028"
      },
      "cell_type": "markdown",
      "source": [
        "<details>\n",
        "    <summary>Click to reveal answer</summary>\n",
        "    <div class=\"answer\">\n",
        "        <pre><code>\n",
        "        iris.groupby('species').sepal_length.mean()\n",
        "    </code></pre>\n",
        "    </div>\n",
        "</details>"
      ],
      "id": "237653c86a0dc028"
    },
    {
      "metadata": {
        "id": "d8bbf2d5b62ab2dd"
      },
      "cell_type": "markdown",
      "source": [
        "### Questions 11\n",
        "Using the `iris` dataset, crate a bar chart of the average sepal length for each species."
      ],
      "id": "d8bbf2d5b62ab2dd"
    },
    {
      "metadata": {
        "ExecuteTime": {
          "end_time": "2024-06-08T09:39:13.594995Z",
          "start_time": "2024-06-08T09:39:13.494782Z"
        },
        "id": "435210f5f0872fa0",
        "outputId": "716ad0be-32c2-4af6-bdcc-7eff41c29ab4"
      },
      "cell_type": "code",
      "source": [],
      "id": "435210f5f0872fa0",
      "outputs": [
        {
          "data": {
            "text/plain": [
              "<Axes: xlabel='species'>"
            ]
          },
          "execution_count": 3,
          "metadata": {},
          "output_type": "execute_result"
        },
        {
          "data": {
            "text/plain": [
              "<Figure size 640x480 with 1 Axes>"
            ],
            "image/png": "[encoded data removed]"
          },
          "metadata": {},
          "output_type": "display_data"
        }
      ],
      "execution_count": null
    },
    {
      "metadata": {
        "id": "863827d66e5d31ef"
      },
      "cell_type": "markdown",
      "source": [
        "<details>\n",
        "    <summary>Click to reveal answer</summary>\n",
        "    <div class=\"answer\">\n",
        "        <pre><code>\n",
        "        iris.groupby('species').sepal_length.mean().plot(kind='bar')\n",
        "    </code></pre>\n",
        "    </div>\n",
        "</details>"
      ],
      "id": "863827d66e5d31ef"
    },
    {
      "metadata": {
        "id": "92aa2164a7659643"
      },
      "cell_type": "markdown",
      "source": [
        "## Questions 12\n",
        "Using the `iris` dataset, Create a scatter plot of sepal length vs sepal width\n"
      ],
      "id": "92aa2164a7659643"
    },
    {
      "metadata": {
        "ExecuteTime": {
          "end_time": "2024-06-08T09:43:11.376372Z",
          "start_time": "2024-06-08T09:43:11.292725Z"
        },
        "id": "f14d8c5b83df3f07",
        "outputId": "159b9bc0-55c5-4e63-88e7-87c1929041c4"
      },
      "cell_type": "code",
      "source": [],
      "id": "f14d8c5b83df3f07",
      "outputs": [
        {
          "data": {
            "text/plain": [
              "<Axes: xlabel='sepal_length', ylabel='sepal_width'>"
            ]
          },
          "execution_count": 18,
          "metadata": {},
          "output_type": "execute_result"
        },
        {
          "data": {
            "text/plain": [
              "<Figure size 640x480 with 1 Axes>"
            ],
            "image/png": "[encoded data removed]"
          },
          "metadata": {},
          "output_type": "display_data"
        }
      ],
      "execution_count": null
    },
    {
      "metadata": {
        "id": "e162ada9892972ed"
      },
      "cell_type": "markdown",
      "source": [
        "<details>\n",
        "    <summary>Click to reveal answer</summary>\n",
        "    <div class=\"answer\">\n",
        "        <pre><code>\n",
        "        iris.plot.scatter(x='sepal_length', y='sepal_width')\n",
        "    </code></pre>\n",
        "    </div>\n",
        "</details>"
      ],
      "id": "e162ada9892972ed"
    },
    {
      "metadata": {
        "id": "412d3a6c96e8200c"
      },
      "cell_type": "code",
      "outputs": [],
      "execution_count": null,
      "source": [],
      "id": "412d3a6c96e8200c"
    }
  ],
  "metadata": {
    "kernelspec": {
      "display_name": "Python 3",
      "language": "python",
      "name": "python3"
    },
    "language_info": {
      "codemirror_mode": {
        "name": "ipython",
        "version": 2
      },
      "file_extension": ".py",
      "mimetype": "text/x-python",
      "name": "python",
      "nbconvert_exporter": "python",
      "pygments_lexer": "ipython2",
      "version": "2.7.6"
    },
    "colab": {
      "provenance": []
    }
  },
  "nbformat": 4,
  "nbformat_minor": 5
}